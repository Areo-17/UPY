{
 "cells": [
  {
   "cell_type": "markdown",
   "metadata": {},
   "source": [
    "# Summary of Unit 1\n",
    "\n",
    "## Instructions given by the teacher\n",
    "The task consists of creating a portfolio of evidence to perform each of the topics listed in the Syllabus, in Unit 1.\n",
    "For this, the 3 tables contained in the INEGI dataset will be used.\n",
    "\n",
    "## Development\n",
    "\n",
    "### Data Import\n",
    "\n",
    "<p>\n",
    "\n",
    "A data table is a way to organize information in a grid format. It has rows and columns, and each cell in the table contains a single piece of data.\n",
    "Data tables can be used to store and organize any type of information: categorical, numeric, boolean, dates, and strings.\n",
    "- Categorical data is data that can be classified into different categories\n",
    "- Numeric data is data that can be represented by numbers.\n",
    "- Boolean data is data that can take on two possible values.\n",
    "- Date data is data that represents a specific point in time\n",
    "- String data is data that is represented by a sequence of characters.\n",
    "\n",
    "Data also can be stored in files with different format. Some exmaples are:\n",
    "- CSV: Plain text file format, stores data in rows and columns, separated by commas.\n",
    "- JSON: Lightweight data-interchange format, easy to read and write, good for storing and exchanging complex data structures.\n",
    "- XML: Markup language, human-readable and machine-processable, good for storing and exchanging hierarchical data structures.\n",
    "- XLS: Binary file format used by Microsoft Excel to store spreadsheet data.\n",
    "\n",
    "Local repositories are stored on your computer and allow you to work on code offline. Remote repositories are stored on a server and allow you to collaborate with others. URLs identify remote repositories. APIs allow software applications to interact with remote repositories.\n",
    "\n",
    "Secure data transfer protocols encrypt data before sending it over a network. Data import procedures move data from one system to another, with steps to prepare, transfer, and validate the data.\n",
    "\n",
    "</p> \n",
    "\n",
    "### Data Exploration\n",
    "\n",
    "<p>\n",
    "\n",
    "Data structures are ways of organizing data in a computer, with linear structures for sequential access and non-linear structures for efficient searching.\n",
    "\n",
    "Raw data is unprocessed and unedited data in its original form.\n",
    "Clean data is processed and manipulated data to remove errors, inconsistencies, and other imperfections.\n",
    "Clean data is essential for accurate and reliable analysis.\n",
    "\n",
    "Some statistical techniques of data exploration are:\n",
    "- **Histograms** - Visualize the distribution of a numerical variable by plotting the number of cases in each value bin.\n",
    "- **Dispersion analysis** - Quantify the variability of a numerical variable using measures such as standard deviation, range, and interquartile range.\n",
    "- **Univariate analysis** - Analyze a single variable at a time to understand its distribution, variability, and outliers.\n",
    "\n",
    "Outliers are unusual data points, missing data is data that is not present, and duplicate data is data that appears multiple times. How to deal with them? Remove outliers, impute missing data, and remove duplicate data.\n",
    "\n",
    "Data exploration procedure is to get familiar with data, identify outliers and missing data, explore relationships between variables, identify patterns and trends, and formulate hypotheses.\n",
    "Variable analysis examinates individual variables to understand distributions, variability, and relationships with other variables.\n",
    "\n",
    "</p>\n"
   ]
  }
 ],
 "metadata": {
  "kernelspec": {
   "display_name": "Python 3",
   "language": "python",
   "name": "python3"
  },
  "language_info": {
   "codemirror_mode": {
    "name": "ipython",
    "version": 3
   },
   "file_extension": ".py",
   "mimetype": "text/x-python",
   "name": "python",
   "nbconvert_exporter": "python",
   "pygments_lexer": "ipython3",
   "version": "3.10.5"
  }
 },
 "nbformat": 4,
 "nbformat_minor": 2
}
