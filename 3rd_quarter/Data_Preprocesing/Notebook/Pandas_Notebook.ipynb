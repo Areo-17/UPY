{
 "cells": [
  {
   "cell_type": "markdown",
   "metadata": {},
   "source": [
    "# Pandas\n",
    "\n",
    "## Summary\n",
    "The purpose of this notebook is to provide some practical examples of functions that come with pandas."
   ]
  },
  {
   "cell_type": "markdown",
   "metadata": {},
   "source": [
    "### Importing the libraries\n",
    "The first thing to do is to be sure to have installed the library, so in console we are going to type the following:"
   ]
  },
  {
   "cell_type": "code",
   "execution_count": 1,
   "metadata": {
    "vscode": {
     "languageId": "powershell"
    }
   },
   "outputs": [
    {
     "name": "stdout",
     "output_type": "stream",
     "text": [
      "Requirement already satisfied: pandas in c:\\users\\diego\\appdata\\local\\programs\\python\\python310\\lib\\site-packages (1.4.3)\n",
      "Requirement already satisfied: python-dateutil>=2.8.1 in c:\\users\\diego\\appdata\\local\\programs\\python\\python310\\lib\\site-packages (from pandas) (2.8.2)\n",
      "Requirement already satisfied: pytz>=2020.1 in c:\\users\\diego\\appdata\\local\\programs\\python\\python310\\lib\\site-packages (from pandas) (2022.1)\n",
      "Requirement already satisfied: numpy>=1.21.0 in c:\\users\\diego\\appdata\\local\\programs\\python\\python310\\lib\\site-packages (from pandas) (1.23.0)\n",
      "Requirement already satisfied: six>=1.5 in c:\\users\\diego\\appdata\\local\\programs\\python\\python310\\lib\\site-packages (from python-dateutil>=2.8.1->pandas) (1.16.0)\n",
      "Note: you may need to restart the kernel to use updated packages.\n"
     ]
    }
   ],
   "source": [
    "pip install pandas"
   ]
  },
  {
   "cell_type": "markdown",
   "metadata": {},
   "source": [
    "If everything worked fine, pandas should be installed as a library you can access with: "
   ]
  },
  {
   "cell_type": "code",
   "execution_count": 2,
   "metadata": {},
   "outputs": [],
   "source": [
    "import pandas as pd"
   ]
  },
  {
   "cell_type": "markdown",
   "metadata": {},
   "source": [
    "> [!NOTE]\n",
    ">\n",
    "> We use the reserved word **'as'** to put a **'nickname'** to the library.\n",
    "\n",
    "--- \n",
    "\n",
    "### Reading a Data Frame\n",
    "First we need to declare a variable, which will have the result dataframe of the file 'bank-full.csv', that will have a separator of ';'.\n",
    "With method **'.head(x)'** you get the headers (or features), where x will be the number of rows you want to display with the headers of the data frame "
   ]
  },
  {
   "cell_type": "code",
   "execution_count": 3,
   "metadata": {},
   "outputs": [
    {
     "name": "stdout",
     "output_type": "stream",
     "text": [
      "   age           job  marital  education default  balance housing loan  \\\n",
      "0   58    management  married   tertiary      no     2143     yes   no   \n",
      "1   44    technician   single  secondary      no       29     yes   no   \n",
      "2   33  entrepreneur  married  secondary      no        2     yes  yes   \n",
      "3   47   blue-collar  married    unknown      no     1506     yes   no   \n",
      "4   33       unknown   single    unknown      no        1      no   no   \n",
      "\n",
      "   contact  day month  duration  campaign  pdays  previous poutcome   y  \n",
      "0  unknown    5   may       261         1     -1         0  unknown  no  \n",
      "1  unknown    5   may       151         1     -1         0  unknown  no  \n",
      "2  unknown    5   may        76         1     -1         0  unknown  no  \n",
      "3  unknown    5   may        92         1     -1         0  unknown  no  \n",
      "4  unknown    5   may       198         1     -1         0  unknown  no  \n",
      "                age        balance           day      duration      campaign  \\\n",
      "count  45211.000000   45211.000000  45211.000000  45211.000000  45211.000000   \n",
      "mean      40.936210    1362.272058     15.806419    258.163080      2.763841   \n",
      "std       10.618762    3044.765829      8.322476    257.527812      3.098021   \n",
      "min       18.000000   -8019.000000      1.000000      0.000000      1.000000   \n",
      "25%       33.000000      72.000000      8.000000    103.000000      1.000000   \n",
      "50%       39.000000     448.000000     16.000000    180.000000      2.000000   \n",
      "75%       48.000000    1428.000000     21.000000    319.000000      3.000000   \n",
      "max       95.000000  102127.000000     31.000000   4918.000000     63.000000   \n",
      "\n",
      "              pdays      previous  \n",
      "count  45211.000000  45211.000000  \n",
      "mean      40.197828      0.580323  \n",
      "std      100.128746      2.303441  \n",
      "min       -1.000000      0.000000  \n",
      "25%       -1.000000      0.000000  \n",
      "50%       -1.000000      0.000000  \n",
      "75%       -1.000000      0.000000  \n",
      "max      871.000000    275.000000  \n"
     ]
    }
   ],
   "source": [
    "bank_df = pd.read_csv('../DataBases/bank-full.csv',sep=';')\n",
    "print(bank_df.head(5))\n",
    "print(bank_df.describe())"
   ]
  },
  {
   "cell_type": "code",
   "execution_count": 4,
   "metadata": {},
   "outputs": [
    {
     "name": "stdout",
     "output_type": "stream",
     "text": [
      "\n",
      "\n",
      "******************** Impresion de df ********************\n",
      "\n",
      "\n",
      "     b  30.83       0  u  g   w   v  1.25  t t.1  01  f g.1  00202  0.1  +\n",
      "0    a  58.67   4.460  u  g   q   h  3.04  t   t   6  f   g  00043  560  +\n",
      "1    a  24.50   0.500  u  g   q   h  1.50  t   f   0  f   g  00280  824  +\n",
      "2    b  27.83   1.540  u  g   w   v  3.75  t   t   5  t   g  00100    3  +\n",
      "3    b  20.17   5.625  u  g   w   v  1.71  t   f   0  f   s  00120    0  +\n",
      "4    b  32.08   4.000  u  g   m   v  2.50  t   f   0  t   g  00360    0  +\n",
      "..  ..    ...     ... .. ..  ..  ..   ... ..  ..  .. ..  ..    ...  ... ..\n",
      "684  b  21.08  10.085  y  p   e   h  1.25  f   f   0  f   g  00260    0  -\n",
      "685  a  22.67   0.750  u  g   c   v  2.00  f   t   2  t   g  00200  394  -\n",
      "686  a  25.25  13.500  y  p  ff  ff  2.00  f   t   1  t   g  00200    1  -\n",
      "687  b  17.92   0.205  u  g  aa   v  0.04  f   f   0  f   g  00280  750  -\n",
      "688  b  35.00   3.375  u  g   c   h  8.29  f   f   0  t   g  00000    0  -\n",
      "\n",
      "[689 rows x 16 columns]\n",
      "\n",
      "\n",
      "******************** Descripcion ********************\n",
      "\n",
      "\n",
      "                0        1.25          01            0.1\n",
      "count  689.000000  689.000000  689.000000     689.000000\n",
      "mean     4.765631    2.224819    2.402032    1018.862119\n",
      "std      4.978470    3.348739    4.866180    5213.743149\n",
      "min      0.000000    0.000000    0.000000       0.000000\n",
      "25%      1.000000    0.165000    0.000000       0.000000\n",
      "50%      2.750000    1.000000    0.000000       5.000000\n",
      "75%      7.250000    2.625000    3.000000     396.000000\n",
      "max     28.000000   28.500000   67.000000  100000.000000\n",
      "\n",
      "\n",
      "******************** Forma ********************\n",
      "\n",
      "\n",
      "(689, 16)\n",
      "\n",
      "\n",
      "******************** Headers ********************\n",
      "\n",
      "\n",
      "   b  30.83     0  u  g  w  v  1.25  t t.1  01  f g.1  00202  0.1  +\n",
      "0  a  58.67  4.46  u  g  q  h  3.04  t   t   6  f   g  00043  560  +\n",
      "\n",
      "\n",
      "******************** Changing header names ********************\n",
      "\n",
      "\n",
      "Empty DataFrame\n",
      "Columns: [x1, x2, x3, x4, x5, x6, x7, x8, x9, x10, x11, x12, x13, x14, x15, x16]\n",
      "Index: []\n"
     ]
    }
   ],
   "source": [
    "# Abrimos el data frame\n",
    "cc_approval_2_df = pd.read_csv(\"../DataBases/cc_approvals_2.data\")\n",
    "\n",
    "#Se imprime el dataframe, se describe, se imprime la forma\n",
    "print(f\"\\n\\n{'*'*20} Impresion de df {'*'*20}\\n\\n\")\n",
    "print(cc_approval_2_df)\n",
    "\n",
    "print(f\"\\n\\n{'*'*20} Descripcion {'*'*20}\\n\\n\")\n",
    "print(cc_approval_2_df.describe())\n",
    "\n",
    "print(f\"\\n\\n{'*'*20} Forma {'*'*20}\\n\\n\")\n",
    "print(cc_approval_2_df.shape)\n",
    "\n",
    "print(f\"\\n\\n{'*'*20} Headers {'*'*20}\\n\\n\")\n",
    "print(cc_approval_2_df.head(1))\n",
    "\n",
    "# Backup statement \n",
    "testing_df = cc_approval_2_df\n",
    "\n",
    "print(f\"\\n\\n{'*'*20} Changing header names {'*'*20}\\n\\n\")\n",
    "testing_df.columns = [f'x{i}' for i in range(1,17)]\n",
    "    \n",
    "print(testing_df.head(0))"
   ]
  }
 ],
 "metadata": {
  "kernelspec": {
   "display_name": "Python 3",
   "language": "python",
   "name": "python3"
  },
  "language_info": {
   "codemirror_mode": {
    "name": "ipython",
    "version": 3
   },
   "file_extension": ".py",
   "mimetype": "text/x-python",
   "name": "python",
   "nbconvert_exporter": "python",
   "pygments_lexer": "ipython3",
   "version": "3.10.5"
  },
  "orig_nbformat": 4
 },
 "nbformat": 4,
 "nbformat_minor": 2
}
